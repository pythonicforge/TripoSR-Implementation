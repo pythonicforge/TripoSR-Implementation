{
  "nbformat": 4,
  "nbformat_minor": 0,
  "metadata": {
    "colab": {
      "provenance": [],
      "gpuType": "T4"
    },
    "kernelspec": {
      "name": "python3",
      "display_name": "Python 3"
    },
    "language_info": {
      "name": "python"
    },
    "accelerator": "GPU",
    "widgets": {
      "application/vnd.jupyter.widget-state+json": {
        "6c7e6d0689404a449bf1fcc1b0a2a334": {
          "model_module": "@jupyter-widgets/controls",
          "model_name": "HBoxModel",
          "model_module_version": "1.5.0",
          "state": {
            "_dom_classes": [],
            "_model_module": "@jupyter-widgets/controls",
            "_model_module_version": "1.5.0",
            "_model_name": "HBoxModel",
            "_view_count": null,
            "_view_module": "@jupyter-widgets/controls",
            "_view_module_version": "1.5.0",
            "_view_name": "HBoxView",
            "box_style": "",
            "children": [
              "IPY_MODEL_6a7950d452be487d8c7b6ef91dd56772",
              "IPY_MODEL_9d7dc752a7434b30a1fa0ff002059dbb",
              "IPY_MODEL_a0709bc09d4f4a5b9a7caaa1100cb9d7"
            ],
            "layout": "IPY_MODEL_f8487a17f3264fab84057fda8534056d"
          }
        },
        "6a7950d452be487d8c7b6ef91dd56772": {
          "model_module": "@jupyter-widgets/controls",
          "model_name": "HTMLModel",
          "model_module_version": "1.5.0",
          "state": {
            "_dom_classes": [],
            "_model_module": "@jupyter-widgets/controls",
            "_model_module_version": "1.5.0",
            "_model_name": "HTMLModel",
            "_view_count": null,
            "_view_module": "@jupyter-widgets/controls",
            "_view_module_version": "1.5.0",
            "_view_name": "HTMLView",
            "description": "",
            "description_tooltip": null,
            "layout": "IPY_MODEL_61cb09d224234ba799d5b23cfc3f64b1",
            "placeholder": "​",
            "style": "IPY_MODEL_d9d28a7e036941579f771bb650bf7af7",
            "value": "config.json: 100%"
          }
        },
        "9d7dc752a7434b30a1fa0ff002059dbb": {
          "model_module": "@jupyter-widgets/controls",
          "model_name": "FloatProgressModel",
          "model_module_version": "1.5.0",
          "state": {
            "_dom_classes": [],
            "_model_module": "@jupyter-widgets/controls",
            "_model_module_version": "1.5.0",
            "_model_name": "FloatProgressModel",
            "_view_count": null,
            "_view_module": "@jupyter-widgets/controls",
            "_view_module_version": "1.5.0",
            "_view_name": "ProgressView",
            "bar_style": "success",
            "description": "",
            "description_tooltip": null,
            "layout": "IPY_MODEL_280e0f5e63d848b4aa347341f4a66fce",
            "max": 454,
            "min": 0,
            "orientation": "horizontal",
            "style": "IPY_MODEL_81392de78507430d8f8c7d65b585de09",
            "value": 454
          }
        },
        "a0709bc09d4f4a5b9a7caaa1100cb9d7": {
          "model_module": "@jupyter-widgets/controls",
          "model_name": "HTMLModel",
          "model_module_version": "1.5.0",
          "state": {
            "_dom_classes": [],
            "_model_module": "@jupyter-widgets/controls",
            "_model_module_version": "1.5.0",
            "_model_name": "HTMLModel",
            "_view_count": null,
            "_view_module": "@jupyter-widgets/controls",
            "_view_module_version": "1.5.0",
            "_view_name": "HTMLView",
            "description": "",
            "description_tooltip": null,
            "layout": "IPY_MODEL_42b6347aa75749d389961f9f79861703",
            "placeholder": "​",
            "style": "IPY_MODEL_38d56e6d4ccf443ca1922d8de59fc9ca",
            "value": " 454/454 [00:00&lt;00:00, 45.6kB/s]"
          }
        },
        "f8487a17f3264fab84057fda8534056d": {
          "model_module": "@jupyter-widgets/base",
          "model_name": "LayoutModel",
          "model_module_version": "1.2.0",
          "state": {
            "_model_module": "@jupyter-widgets/base",
            "_model_module_version": "1.2.0",
            "_model_name": "LayoutModel",
            "_view_count": null,
            "_view_module": "@jupyter-widgets/base",
            "_view_module_version": "1.2.0",
            "_view_name": "LayoutView",
            "align_content": null,
            "align_items": null,
            "align_self": null,
            "border": null,
            "bottom": null,
            "display": null,
            "flex": null,
            "flex_flow": null,
            "grid_area": null,
            "grid_auto_columns": null,
            "grid_auto_flow": null,
            "grid_auto_rows": null,
            "grid_column": null,
            "grid_gap": null,
            "grid_row": null,
            "grid_template_areas": null,
            "grid_template_columns": null,
            "grid_template_rows": null,
            "height": null,
            "justify_content": null,
            "justify_items": null,
            "left": null,
            "margin": null,
            "max_height": null,
            "max_width": null,
            "min_height": null,
            "min_width": null,
            "object_fit": null,
            "object_position": null,
            "order": null,
            "overflow": null,
            "overflow_x": null,
            "overflow_y": null,
            "padding": null,
            "right": null,
            "top": null,
            "visibility": null,
            "width": null
          }
        },
        "61cb09d224234ba799d5b23cfc3f64b1": {
          "model_module": "@jupyter-widgets/base",
          "model_name": "LayoutModel",
          "model_module_version": "1.2.0",
          "state": {
            "_model_module": "@jupyter-widgets/base",
            "_model_module_version": "1.2.0",
            "_model_name": "LayoutModel",
            "_view_count": null,
            "_view_module": "@jupyter-widgets/base",
            "_view_module_version": "1.2.0",
            "_view_name": "LayoutView",
            "align_content": null,
            "align_items": null,
            "align_self": null,
            "border": null,
            "bottom": null,
            "display": null,
            "flex": null,
            "flex_flow": null,
            "grid_area": null,
            "grid_auto_columns": null,
            "grid_auto_flow": null,
            "grid_auto_rows": null,
            "grid_column": null,
            "grid_gap": null,
            "grid_row": null,
            "grid_template_areas": null,
            "grid_template_columns": null,
            "grid_template_rows": null,
            "height": null,
            "justify_content": null,
            "justify_items": null,
            "left": null,
            "margin": null,
            "max_height": null,
            "max_width": null,
            "min_height": null,
            "min_width": null,
            "object_fit": null,
            "object_position": null,
            "order": null,
            "overflow": null,
            "overflow_x": null,
            "overflow_y": null,
            "padding": null,
            "right": null,
            "top": null,
            "visibility": null,
            "width": null
          }
        },
        "d9d28a7e036941579f771bb650bf7af7": {
          "model_module": "@jupyter-widgets/controls",
          "model_name": "DescriptionStyleModel",
          "model_module_version": "1.5.0",
          "state": {
            "_model_module": "@jupyter-widgets/controls",
            "_model_module_version": "1.5.0",
            "_model_name": "DescriptionStyleModel",
            "_view_count": null,
            "_view_module": "@jupyter-widgets/base",
            "_view_module_version": "1.2.0",
            "_view_name": "StyleView",
            "description_width": ""
          }
        },
        "280e0f5e63d848b4aa347341f4a66fce": {
          "model_module": "@jupyter-widgets/base",
          "model_name": "LayoutModel",
          "model_module_version": "1.2.0",
          "state": {
            "_model_module": "@jupyter-widgets/base",
            "_model_module_version": "1.2.0",
            "_model_name": "LayoutModel",
            "_view_count": null,
            "_view_module": "@jupyter-widgets/base",
            "_view_module_version": "1.2.0",
            "_view_name": "LayoutView",
            "align_content": null,
            "align_items": null,
            "align_self": null,
            "border": null,
            "bottom": null,
            "display": null,
            "flex": null,
            "flex_flow": null,
            "grid_area": null,
            "grid_auto_columns": null,
            "grid_auto_flow": null,
            "grid_auto_rows": null,
            "grid_column": null,
            "grid_gap": null,
            "grid_row": null,
            "grid_template_areas": null,
            "grid_template_columns": null,
            "grid_template_rows": null,
            "height": null,
            "justify_content": null,
            "justify_items": null,
            "left": null,
            "margin": null,
            "max_height": null,
            "max_width": null,
            "min_height": null,
            "min_width": null,
            "object_fit": null,
            "object_position": null,
            "order": null,
            "overflow": null,
            "overflow_x": null,
            "overflow_y": null,
            "padding": null,
            "right": null,
            "top": null,
            "visibility": null,
            "width": null
          }
        },
        "81392de78507430d8f8c7d65b585de09": {
          "model_module": "@jupyter-widgets/controls",
          "model_name": "ProgressStyleModel",
          "model_module_version": "1.5.0",
          "state": {
            "_model_module": "@jupyter-widgets/controls",
            "_model_module_version": "1.5.0",
            "_model_name": "ProgressStyleModel",
            "_view_count": null,
            "_view_module": "@jupyter-widgets/base",
            "_view_module_version": "1.2.0",
            "_view_name": "StyleView",
            "bar_color": null,
            "description_width": ""
          }
        },
        "42b6347aa75749d389961f9f79861703": {
          "model_module": "@jupyter-widgets/base",
          "model_name": "LayoutModel",
          "model_module_version": "1.2.0",
          "state": {
            "_model_module": "@jupyter-widgets/base",
            "_model_module_version": "1.2.0",
            "_model_name": "LayoutModel",
            "_view_count": null,
            "_view_module": "@jupyter-widgets/base",
            "_view_module_version": "1.2.0",
            "_view_name": "LayoutView",
            "align_content": null,
            "align_items": null,
            "align_self": null,
            "border": null,
            "bottom": null,
            "display": null,
            "flex": null,
            "flex_flow": null,
            "grid_area": null,
            "grid_auto_columns": null,
            "grid_auto_flow": null,
            "grid_auto_rows": null,
            "grid_column": null,
            "grid_gap": null,
            "grid_row": null,
            "grid_template_areas": null,
            "grid_template_columns": null,
            "grid_template_rows": null,
            "height": null,
            "justify_content": null,
            "justify_items": null,
            "left": null,
            "margin": null,
            "max_height": null,
            "max_width": null,
            "min_height": null,
            "min_width": null,
            "object_fit": null,
            "object_position": null,
            "order": null,
            "overflow": null,
            "overflow_x": null,
            "overflow_y": null,
            "padding": null,
            "right": null,
            "top": null,
            "visibility": null,
            "width": null
          }
        },
        "38d56e6d4ccf443ca1922d8de59fc9ca": {
          "model_module": "@jupyter-widgets/controls",
          "model_name": "DescriptionStyleModel",
          "model_module_version": "1.5.0",
          "state": {
            "_model_module": "@jupyter-widgets/controls",
            "_model_module_version": "1.5.0",
            "_model_name": "DescriptionStyleModel",
            "_view_count": null,
            "_view_module": "@jupyter-widgets/base",
            "_view_module_version": "1.2.0",
            "_view_name": "StyleView",
            "description_width": ""
          }
        }
      }
    }
  },
  "cells": [
    {
      "cell_type": "markdown",
      "source": [
        "# TripoSR Reimplementation — 3D Mesh from a Single Image\n",
        "\n",
        "Welcome to this notebook where I will walk you through a **reimplementation of TripoSR**, a fast and powerful 3D object reconstruction model that takes a **single 2D image** and generates a **textured 3D mesh**.\n",
        "\n",
        "This implementation is based on the original work by [Tripo AI](https://github.com/VAST-AI-Research/TripoSR) and adapted using the excellent tutorial by [PyImageSearch](https://pyimagesearch.com/2024/11/25/create-a-3d-object-from-your-images-with-triposr-in-python/). The goal here is to understand how the model works, and recreate the workflow in a clean, reproducible, and Colab-friendly format 🚀\n",
        "\n",
        "<br/>\n",
        "\n",
        "### What I'll Do Here\n",
        "\n",
        "- Clone the TripoSR repo and set it up in Colab\n",
        "- Install all required dependencies (with 💀 Mac fixes if needed)\n",
        "- Upload your own image or use a sample one\n",
        "- Generate a 3D mesh using the pre-trained TripoSR model\n",
        "- Visualize the result interactively\n",
        "\n",
        "> **Note**: This is a *reimplementation and walkthrough*, not an official version — credits go to the original authors and sources linked below.\n",
        "\n",
        "<br/>\n",
        "\n",
        "### References\n",
        "\n",
        "- [TripoSR Paper (arXiv)](https://arxiv.org/pdf/2403.02151)\n",
        "- [Official GitHub Repo](https://github.com/VAST-AI-Research/TripoSR)\n",
        "- [PyImageSearch Blog Walkthrough](https://pyimagesearch.com/2024/11/25/create-a-3d-object-from-your-images-with-triposr-in-python/)\n",
        "\n",
        "<br/>\n",
        "\n",
        "Let’s dive in and build some 3D magic from 2D pixels ✨\n"
      ],
      "metadata": {
        "id": "kA-uPN-9TLUb"
      }
    },
    {
      "cell_type": "markdown",
      "source": [
        "### Clone the GitHub Repository\n",
        "\n",
        "I'll use [PyImageSearch's Repo](https://github.com/pyimagesearch/TripoSR) to clone the source code for TripoSR. Since we're working inside Google Colab, so we use `%cd` to change the working directory and `sys.path.append` to import local modules like `tsr.infer`."
      ],
      "metadata": {
        "id": "fGE1Evu7Upi-"
      }
    },
    {
      "cell_type": "code",
      "execution_count": 1,
      "metadata": {
        "colab": {
          "base_uri": "https://localhost:8080/"
        },
        "id": "ZxvQyevRMXf0",
        "outputId": "14d0ed97-0c77-4ca6-db67-ae91eab4b757"
      },
      "outputs": [
        {
          "output_type": "stream",
          "name": "stdout",
          "text": [
            "Cloning into 'TripoSR'...\n",
            "remote: Enumerating objects: 164, done.\u001b[K\n",
            "remote: Counting objects: 100% (97/97), done.\u001b[K\n",
            "remote: Compressing objects: 100% (55/55), done.\u001b[K\n",
            "remote: Total 164 (delta 65), reused 42 (delta 42), pack-reused 67 (from 1)\u001b[K\n",
            "Receiving objects: 100% (164/164), 36.71 MiB | 19.53 MiB/s, done.\n",
            "Resolving deltas: 100% (67/67), done.\n",
            "/content/TripoSR\n"
          ]
        }
      ],
      "source": [
        "!git clone https://github.com/pyimagesearch/TripoSR.git\n",
        "import sys\n",
        "sys.path.append('/content/TripoSR/tsr')\n",
        "%cd TripoSR"
      ]
    },
    {
      "cell_type": "markdown",
      "source": [
        "### Install Required Dependencies\n",
        "\n",
        "To run TripoSR, we'll need to install a few Python packages including PyTorch, ONNX Runtime, and some image processing tools."
      ],
      "metadata": {
        "id": "iUUyYHGQVY95"
      }
    },
    {
      "cell_type": "code",
      "source": [
        "# Install all dependencies listed in the repo's requirements.txt\n",
        "!pip install -r requirements.txt -q\n",
        "\n",
        "# Install ONNX Runtime for running the model inference\n",
        "!pip install onnxruntime\n",
        "\n",
        "# Pillow upgrade is needed for proper image handling (especially for mesh\n",
        "# textures)\n",
        "!pip install --upgrade Pillow -q"
      ],
      "metadata": {
        "colab": {
          "base_uri": "https://localhost:8080/"
        },
        "id": "tXtSIbFhMbDm",
        "outputId": "77305c96-5227-4784-8949-7aa2756ee669"
      },
      "execution_count": 2,
      "outputs": [
        {
          "output_type": "stream",
          "name": "stdout",
          "text": [
            "  Installing build dependencies ... \u001b[?25l\u001b[?25hdone\n",
            "  Getting requirements to build wheel ... \u001b[?25l\u001b[?25hdone\n",
            "  Preparing metadata (pyproject.toml) ... \u001b[?25l\u001b[?25hdone\n",
            "\u001b[2K   \u001b[90m━━━━━━━━━━━━━━━━━━━━━━━━━━━━━━━━━━━━━━━━\u001b[0m \u001b[32m3.6/3.6 MB\u001b[0m \u001b[31m57.7 MB/s\u001b[0m eta \u001b[36m0:00:00\u001b[0m\n",
            "\u001b[2K   \u001b[90m━━━━━━━━━━━━━━━━━━━━━━━━━━━━━━━━━━━━━━━━\u001b[0m \u001b[32m44.6/44.6 kB\u001b[0m \u001b[31m3.9 MB/s\u001b[0m eta \u001b[36m0:00:00\u001b[0m\n",
            "\u001b[2K   \u001b[90m━━━━━━━━━━━━━━━━━━━━━━━━━━━━━━━━━━━━━━━━\u001b[0m \u001b[32m688.5/688.5 kB\u001b[0m \u001b[31m51.7 MB/s\u001b[0m eta \u001b[36m0:00:00\u001b[0m\n",
            "\u001b[2K   \u001b[90m━━━━━━━━━━━━━━━━━━━━━━━━━━━━━━━━━━━━━━━━\u001b[0m \u001b[32m229.9/229.9 kB\u001b[0m \u001b[31m23.5 MB/s\u001b[0m eta \u001b[36m0:00:00\u001b[0m\n",
            "\u001b[2K   \u001b[90m━━━━━━━━━━━━━━━━━━━━━━━━━━━━━━━━━━━━━━━━\u001b[0m \u001b[32m269.3/269.3 kB\u001b[0m \u001b[31m26.9 MB/s\u001b[0m eta \u001b[36m0:00:00\u001b[0m\n",
            "\u001b[2K   \u001b[90m━━━━━━━━━━━━━━━━━━━━━━━━━━━━━━━━━━━━━━━━\u001b[0m \u001b[32m41.7/41.7 kB\u001b[0m \u001b[31m3.9 MB/s\u001b[0m eta \u001b[36m0:00:00\u001b[0m\n",
            "\u001b[2K   \u001b[90m━━━━━━━━━━━━━━━━━━━━━━━━━━━━━━━━━━━━━━━━\u001b[0m \u001b[32m98.5/98.5 MB\u001b[0m \u001b[31m9.2 MB/s\u001b[0m eta \u001b[36m0:00:00\u001b[0m\n",
            "\u001b[2K   \u001b[90m━━━━━━━━━━━━━━━━━━━━━━━━━━━━━━━━━━━━━━━━\u001b[0m \u001b[32m51.7/51.7 kB\u001b[0m \u001b[31m4.3 MB/s\u001b[0m eta \u001b[36m0:00:00\u001b[0m\n",
            "\u001b[2K   \u001b[90m━━━━━━━━━━━━━━━━━━━━━━━━━━━━━━━━━━━━━━━━\u001b[0m \u001b[32m54.7/54.7 kB\u001b[0m \u001b[31m4.9 MB/s\u001b[0m eta \u001b[36m0:00:00\u001b[0m\n",
            "\u001b[2K   \u001b[90m━━━━━━━━━━━━━━━━━━━━━━━━━━━━━━━━━━━━━━━━\u001b[0m \u001b[32m363.4/363.4 MB\u001b[0m \u001b[31m4.2 MB/s\u001b[0m eta \u001b[36m0:00:00\u001b[0m\n",
            "\u001b[2K   \u001b[90m━━━━━━━━━━━━━━━━━━━━━━━━━━━━━━━━━━━━━━━━\u001b[0m \u001b[32m13.8/13.8 MB\u001b[0m \u001b[31m108.5 MB/s\u001b[0m eta \u001b[36m0:00:00\u001b[0m\n",
            "\u001b[2K   \u001b[90m━━━━━━━━━━━━━━━━━━━━━━━━━━━━━━━━━━━━━━━━\u001b[0m \u001b[32m24.6/24.6 MB\u001b[0m \u001b[31m93.5 MB/s\u001b[0m eta \u001b[36m0:00:00\u001b[0m\n",
            "\u001b[2K   \u001b[90m━━━━━━━━━━━━━━━━━━━━━━━━━━━━━━━━━━━━━━━━\u001b[0m \u001b[32m883.7/883.7 kB\u001b[0m \u001b[31m57.9 MB/s\u001b[0m eta \u001b[36m0:00:00\u001b[0m\n",
            "\u001b[2K   \u001b[90m━━━━━━━━━━━━━━━━━━━━━━━━━━━━━━━━━━━━━━━━\u001b[0m \u001b[32m664.8/664.8 MB\u001b[0m \u001b[31m1.3 MB/s\u001b[0m eta \u001b[36m0:00:00\u001b[0m\n",
            "\u001b[2K   \u001b[90m━━━━━━━━━━━━━━━━━━━━━━━━━━━━━━━━━━━━━━━━\u001b[0m \u001b[32m211.5/211.5 MB\u001b[0m \u001b[31m5.6 MB/s\u001b[0m eta \u001b[36m0:00:00\u001b[0m\n",
            "\u001b[2K   \u001b[90m━━━━━━━━━━━━━━━━━━━━━━━━━━━━━━━━━━━━━━━━\u001b[0m \u001b[32m56.3/56.3 MB\u001b[0m \u001b[31m12.2 MB/s\u001b[0m eta \u001b[36m0:00:00\u001b[0m\n",
            "\u001b[2K   \u001b[90m━━━━━━━━━━━━━━━━━━━━━━━━━━━━━━━━━━━━━━━━\u001b[0m \u001b[32m127.9/127.9 MB\u001b[0m \u001b[31m8.0 MB/s\u001b[0m eta \u001b[36m0:00:00\u001b[0m\n",
            "\u001b[2K   \u001b[90m━━━━━━━━━━━━━━━━━━━━━━━━━━━━━━━━━━━━━━━━\u001b[0m \u001b[32m207.5/207.5 MB\u001b[0m \u001b[31m5.4 MB/s\u001b[0m eta \u001b[36m0:00:00\u001b[0m\n",
            "\u001b[2K   \u001b[90m━━━━━━━━━━━━━━━━━━━━━━━━━━━━━━━━━━━━━━━━\u001b[0m \u001b[32m21.1/21.1 MB\u001b[0m \u001b[31m57.3 MB/s\u001b[0m eta \u001b[36m0:00:00\u001b[0m\n",
            "\u001b[?25h  Building wheel for torchmcubes (pyproject.toml) ... \u001b[?25l\u001b[?25hdone\n"
          ]
        }
      ]
    },
    {
      "cell_type": "markdown",
      "source": [
        "### Import Libraries & Utilities\n",
        "\n",
        "We’ll now import all the core libraries needed for this reimplementation. This includes:\n",
        "- `torch` for GPU support and tensor ops\n",
        "- `Pillow` & `rembg` for image processing and background removal\n",
        "- `TSR` for the main model\n",
        "- `pymeshlab` for mesh manipulation\n",
        "- `IPython.display` to show the output as a video right in Colab"
      ],
      "metadata": {
        "id": "zdRprctxWTba"
      }
    },
    {
      "cell_type": "code",
      "source": [
        "import torch\n",
        "import os\n",
        "import time\n",
        "from PIL import Image\n",
        "import numpy as np\n",
        "from IPython.display import Video\n",
        "\n",
        "# TripoSR system and utility functions\n",
        "from tsr.system import TSR\n",
        "from tsr.utils import remove_background, resize_foreground, save_video\n",
        "\n",
        "# Mesh handling and background removal\n",
        "import pymeshlab as pymesh\n",
        "import rembg"
      ],
      "metadata": {
        "id": "yCcFxSmVMhG-"
      },
      "execution_count": 5,
      "outputs": []
    },
    {
      "cell_type": "markdown",
      "source": [
        "### Select Device (GPU or CPU)\n",
        "\n",
        "We'll check if a CUDA-enabled GPU is available and set our device accordingly. If you're using Google Colab with GPU runtime enabled, it should default to `\"cuda\"`.\n"
      ],
      "metadata": {
        "id": "XmsYRWCPWgac"
      }
    },
    {
      "cell_type": "code",
      "source": [
        "device = \"cuda\" if torch.cuda.is_available() else \"cpu\""
      ],
      "metadata": {
        "id": "it8ItMZTPs7y"
      },
      "execution_count": 6,
      "outputs": []
    },
    {
      "cell_type": "markdown",
      "source": [
        "### Create a Timer Utility Class\n",
        "\n",
        "We'll define a simple `Timer` class to measure how long different parts of the pipeline take — especially useful when comparing performance across devices (CPU vs GPU).\n",
        "\n",
        "This class:\n",
        "- Automatically syncs with CUDA (if available) for accurate timing\n",
        "- Stores timing data in a dictionary\n",
        "- Prints the duration of each operation in **milliseconds (ms)**"
      ],
      "metadata": {
        "id": "btGAZFb4Vs8D"
      }
    },
    {
      "cell_type": "code",
      "source": [
        "class Timer:\n",
        "  def __init__(self):\n",
        "    self.items = {}\n",
        "    self.time_scale = 1000.0\n",
        "    self.time_unit = \"ms\"\n",
        "\n",
        "  def start(self, name: str) -> None:\n",
        "    if torch.cuda.is_available():\n",
        "      torch.cuda.synchronize()\n",
        "    self.items[name] = time.time()\n",
        "\n",
        "  def end(self, name: str) -> float:\n",
        "    if name not in self.items:\n",
        "      return\n",
        "    if torch.cuda.is_available():\n",
        "      torch.cuda.synchronize\n",
        "    start_time = self.items.pop(name)\n",
        "    delta = time.time() - start_time\n",
        "    t = delta * self.time_scale\n",
        "    print(f\"{name} finished in {t:.2f}{self.time_unit}.\")\n",
        "\n",
        "timer = Timer()"
      ],
      "metadata": {
        "id": "wHP1HRceP9ne"
      },
      "execution_count": 7,
      "outputs": []
    },
    {
      "cell_type": "markdown",
      "source": [
        "### Upload Your 2D Image\n",
        "\n",
        "Now it's your turn! Upload any 2D image (preferably of a single object) that you'd like to convert into a 3D mesh.\n",
        "\n",
        "This code:\n",
        "- Opens a file upload dialog in Colab\n",
        "- Loads the first uploaded image using `Pillow`\n",
        "- Resizes it to **512×512** (TripoSR expects square inputs)\n",
        "- Saves it to the `examples/` folder as `product.png`"
      ],
      "metadata": {
        "id": "Lshua-ezXG4_"
      }
    },
    {
      "cell_type": "code",
      "source": [
        "from google.colab import files\n",
        "uploaded = files.upload()\n",
        "\n",
        "# Load the uploaded image\n",
        "original_image = Image.open(list(uploaded.keys())[0])\n",
        "\n",
        "# Resize and save in the format expected by TripoSR\n",
        "original_image.resize((512, 512)).save(\"examples/product.png\")"
      ],
      "metadata": {
        "colab": {
          "base_uri": "https://localhost:8080/",
          "height": 74
        },
        "id": "VVU-NHnYQ18k",
        "outputId": "873bb516-6649-403f-9261-c5d99035e5f5"
      },
      "execution_count": 8,
      "outputs": [
        {
          "output_type": "display_data",
          "data": {
            "text/plain": [
              "<IPython.core.display.HTML object>"
            ],
            "text/html": [
              "\n",
              "     <input type=\"file\" id=\"files-3465540a-a8db-476d-852e-23fd49c0928c\" name=\"files[]\" multiple disabled\n",
              "        style=\"border:none\" />\n",
              "     <output id=\"result-3465540a-a8db-476d-852e-23fd49c0928c\">\n",
              "      Upload widget is only available when the cell has been executed in the\n",
              "      current browser session. Please rerun this cell to enable.\n",
              "      </output>\n",
              "      <script>// Copyright 2017 Google LLC\n",
              "//\n",
              "// Licensed under the Apache License, Version 2.0 (the \"License\");\n",
              "// you may not use this file except in compliance with the License.\n",
              "// You may obtain a copy of the License at\n",
              "//\n",
              "//      http://www.apache.org/licenses/LICENSE-2.0\n",
              "//\n",
              "// Unless required by applicable law or agreed to in writing, software\n",
              "// distributed under the License is distributed on an \"AS IS\" BASIS,\n",
              "// WITHOUT WARRANTIES OR CONDITIONS OF ANY KIND, either express or implied.\n",
              "// See the License for the specific language governing permissions and\n",
              "// limitations under the License.\n",
              "\n",
              "/**\n",
              " * @fileoverview Helpers for google.colab Python module.\n",
              " */\n",
              "(function(scope) {\n",
              "function span(text, styleAttributes = {}) {\n",
              "  const element = document.createElement('span');\n",
              "  element.textContent = text;\n",
              "  for (const key of Object.keys(styleAttributes)) {\n",
              "    element.style[key] = styleAttributes[key];\n",
              "  }\n",
              "  return element;\n",
              "}\n",
              "\n",
              "// Max number of bytes which will be uploaded at a time.\n",
              "const MAX_PAYLOAD_SIZE = 100 * 1024;\n",
              "\n",
              "function _uploadFiles(inputId, outputId) {\n",
              "  const steps = uploadFilesStep(inputId, outputId);\n",
              "  const outputElement = document.getElementById(outputId);\n",
              "  // Cache steps on the outputElement to make it available for the next call\n",
              "  // to uploadFilesContinue from Python.\n",
              "  outputElement.steps = steps;\n",
              "\n",
              "  return _uploadFilesContinue(outputId);\n",
              "}\n",
              "\n",
              "// This is roughly an async generator (not supported in the browser yet),\n",
              "// where there are multiple asynchronous steps and the Python side is going\n",
              "// to poll for completion of each step.\n",
              "// This uses a Promise to block the python side on completion of each step,\n",
              "// then passes the result of the previous step as the input to the next step.\n",
              "function _uploadFilesContinue(outputId) {\n",
              "  const outputElement = document.getElementById(outputId);\n",
              "  const steps = outputElement.steps;\n",
              "\n",
              "  const next = steps.next(outputElement.lastPromiseValue);\n",
              "  return Promise.resolve(next.value.promise).then((value) => {\n",
              "    // Cache the last promise value to make it available to the next\n",
              "    // step of the generator.\n",
              "    outputElement.lastPromiseValue = value;\n",
              "    return next.value.response;\n",
              "  });\n",
              "}\n",
              "\n",
              "/**\n",
              " * Generator function which is called between each async step of the upload\n",
              " * process.\n",
              " * @param {string} inputId Element ID of the input file picker element.\n",
              " * @param {string} outputId Element ID of the output display.\n",
              " * @return {!Iterable<!Object>} Iterable of next steps.\n",
              " */\n",
              "function* uploadFilesStep(inputId, outputId) {\n",
              "  const inputElement = document.getElementById(inputId);\n",
              "  inputElement.disabled = false;\n",
              "\n",
              "  const outputElement = document.getElementById(outputId);\n",
              "  outputElement.innerHTML = '';\n",
              "\n",
              "  const pickedPromise = new Promise((resolve) => {\n",
              "    inputElement.addEventListener('change', (e) => {\n",
              "      resolve(e.target.files);\n",
              "    });\n",
              "  });\n",
              "\n",
              "  const cancel = document.createElement('button');\n",
              "  inputElement.parentElement.appendChild(cancel);\n",
              "  cancel.textContent = 'Cancel upload';\n",
              "  const cancelPromise = new Promise((resolve) => {\n",
              "    cancel.onclick = () => {\n",
              "      resolve(null);\n",
              "    };\n",
              "  });\n",
              "\n",
              "  // Wait for the user to pick the files.\n",
              "  const files = yield {\n",
              "    promise: Promise.race([pickedPromise, cancelPromise]),\n",
              "    response: {\n",
              "      action: 'starting',\n",
              "    }\n",
              "  };\n",
              "\n",
              "  cancel.remove();\n",
              "\n",
              "  // Disable the input element since further picks are not allowed.\n",
              "  inputElement.disabled = true;\n",
              "\n",
              "  if (!files) {\n",
              "    return {\n",
              "      response: {\n",
              "        action: 'complete',\n",
              "      }\n",
              "    };\n",
              "  }\n",
              "\n",
              "  for (const file of files) {\n",
              "    const li = document.createElement('li');\n",
              "    li.append(span(file.name, {fontWeight: 'bold'}));\n",
              "    li.append(span(\n",
              "        `(${file.type || 'n/a'}) - ${file.size} bytes, ` +\n",
              "        `last modified: ${\n",
              "            file.lastModifiedDate ? file.lastModifiedDate.toLocaleDateString() :\n",
              "                                    'n/a'} - `));\n",
              "    const percent = span('0% done');\n",
              "    li.appendChild(percent);\n",
              "\n",
              "    outputElement.appendChild(li);\n",
              "\n",
              "    const fileDataPromise = new Promise((resolve) => {\n",
              "      const reader = new FileReader();\n",
              "      reader.onload = (e) => {\n",
              "        resolve(e.target.result);\n",
              "      };\n",
              "      reader.readAsArrayBuffer(file);\n",
              "    });\n",
              "    // Wait for the data to be ready.\n",
              "    let fileData = yield {\n",
              "      promise: fileDataPromise,\n",
              "      response: {\n",
              "        action: 'continue',\n",
              "      }\n",
              "    };\n",
              "\n",
              "    // Use a chunked sending to avoid message size limits. See b/62115660.\n",
              "    let position = 0;\n",
              "    do {\n",
              "      const length = Math.min(fileData.byteLength - position, MAX_PAYLOAD_SIZE);\n",
              "      const chunk = new Uint8Array(fileData, position, length);\n",
              "      position += length;\n",
              "\n",
              "      const base64 = btoa(String.fromCharCode.apply(null, chunk));\n",
              "      yield {\n",
              "        response: {\n",
              "          action: 'append',\n",
              "          file: file.name,\n",
              "          data: base64,\n",
              "        },\n",
              "      };\n",
              "\n",
              "      let percentDone = fileData.byteLength === 0 ?\n",
              "          100 :\n",
              "          Math.round((position / fileData.byteLength) * 100);\n",
              "      percent.textContent = `${percentDone}% done`;\n",
              "\n",
              "    } while (position < fileData.byteLength);\n",
              "  }\n",
              "\n",
              "  // All done.\n",
              "  yield {\n",
              "    response: {\n",
              "      action: 'complete',\n",
              "    }\n",
              "  };\n",
              "}\n",
              "\n",
              "scope.google = scope.google || {};\n",
              "scope.google.colab = scope.google.colab || {};\n",
              "scope.google.colab._files = {\n",
              "  _uploadFiles,\n",
              "  _uploadFilesContinue,\n",
              "};\n",
              "})(self);\n",
              "</script> "
            ]
          },
          "metadata": {}
        },
        {
          "output_type": "stream",
          "name": "stdout",
          "text": [
            "Saving product.png to product.png\n"
          ]
        }
      ]
    },
    {
      "cell_type": "markdown",
      "source": [
        "### Configure Inference Parameters\n",
        "\n",
        "Here we define all the key settings for running the TripoSR model:\n",
        "\n",
        "- `image_paths`: Path to the input image  \n",
        "- `pretrained_model_name_or_path`: Hugging Face model name or path  \n",
        "- `device`: CUDA GPU device for inference (or CPU fallback)  \n",
        "- `chunk_size`: Controls how much data gets processed at once (default = 8192)  \n",
        "- `no_remove_bg`: If `True`, skips background removal (set `False` to enable)  \n",
        "- `foreground_ratio`: Resize factor for foreground cropping  \n",
        "- `output_dir`: Folder to save the generated mesh + render  \n",
        "- `model_save_format`: File format for the saved mesh (e.g., `\"obj\"`)  \n",
        "- `render`: Whether to generate a render video or not"
      ],
      "metadata": {
        "id": "vPBToBXOXHkZ"
      }
    },
    {
      "cell_type": "code",
      "source": [
        "image_paths = \"/content/TripoSR/examples/product.png\"\n",
        "device = \"cuda:0\"\n",
        "pretrained_model_name_or_path = \"stabilityai/TripoSR\"\n",
        "chunk_size = 8192\n",
        "no_remove_bg = True\n",
        "foreground_ratio = 0.85\n",
        "output_dir = \"output/\"\n",
        "model_save_format = \"obj\"\n",
        "render = True\n",
        "\n",
        "# Make sure the output directory exists\n",
        "output_dir = output_dir.strip()\n",
        "os.makedirs(output_dir, exist_ok=True)"
      ],
      "metadata": {
        "id": "GrjteFePQ9MD"
      },
      "execution_count": 9,
      "outputs": []
    },
    {
      "cell_type": "markdown",
      "source": [
        "### Load the Pretrained TripoSR Model\n",
        "\n",
        "We’ll now load the **pretrained TripoSR model** from Hugging Face using the built-in `TSR.from_pretrained()` method.\n",
        "\n",
        "This step:\n",
        "- Loads model weights + config from `\"stabilityai/TripoSR\"`\n",
        "- Sets the rendering chunk size\n",
        "- Moves the model to the specified device (`cuda` or `cpu`)\n",
        "- Times the whole process using our custom `Timer` class"
      ],
      "metadata": {
        "id": "aL2zjOzTXeL7"
      }
    },
    {
      "cell_type": "code",
      "source": [
        "timer.start(\"Initializing model\")\n",
        "model = TSR.from_pretrained(\n",
        "    pretrained_model_name_or_path, # HF model hub path\n",
        "    config_name=\"config.yaml\", # Model config\n",
        "    weight_name=\"model.ckpt\", # Pretrained weights\n",
        ")\n",
        "\n",
        "# Set chunk size for renderer\n",
        "model.renderer.set_chunk_size(chunk_size)\n",
        "\n",
        "# Move model to GPU or CPU\n",
        "model.to(device)\n",
        "\n",
        "timer.end(\"Initializing model\")"
      ],
      "metadata": {
        "colab": {
          "base_uri": "https://localhost:8080/",
          "height": 85,
          "referenced_widgets": [
            "6c7e6d0689404a449bf1fcc1b0a2a334",
            "6a7950d452be487d8c7b6ef91dd56772",
            "9d7dc752a7434b30a1fa0ff002059dbb",
            "a0709bc09d4f4a5b9a7caaa1100cb9d7",
            "f8487a17f3264fab84057fda8534056d",
            "61cb09d224234ba799d5b23cfc3f64b1",
            "d9d28a7e036941579f771bb650bf7af7",
            "280e0f5e63d848b4aa347341f4a66fce",
            "81392de78507430d8f8c7d65b585de09",
            "42b6347aa75749d389961f9f79861703",
            "38d56e6d4ccf443ca1922d8de59fc9ca"
          ]
        },
        "id": "F9n4qQapSUD6",
        "outputId": "03ddbb0b-bae3-4aa3-bd47-c23e4e525217"
      },
      "execution_count": 13,
      "outputs": [
        {
          "output_type": "stream",
          "name": "stdout",
          "text": [
            "\u001b[?25l   \u001b[90m━━━━━━━━━━━━━━━━━━━━━━━━━━━━━━━━━━━━━━━━\u001b[0m \u001b[32m0.0/4.6 MB\u001b[0m \u001b[31m?\u001b[0m eta \u001b[36m-:--:--\u001b[0m\r\u001b[2K   \u001b[91m━━━━━\u001b[0m\u001b[91m╸\u001b[0m\u001b[90m━━━━━━━━━━━━━━━━━━━━━━━━━━━━━━━━━━\u001b[0m \u001b[32m0.6/4.6 MB\u001b[0m \u001b[31m20.4 MB/s\u001b[0m eta \u001b[36m0:00:01\u001b[0m\r\u001b[2K   \u001b[91m━━━━━━━━━━━━━━━━━━━━━━━━━━━━━━━━━━━━━━━\u001b[0m\u001b[91m╸\u001b[0m \u001b[32m4.6/4.6 MB\u001b[0m \u001b[31m78.8 MB/s\u001b[0m eta \u001b[36m0:00:01\u001b[0m\r\u001b[2K   \u001b[90m━━━━━━━━━━━━━━━━━━━━━━━━━━━━━━━━━━━━━━━━\u001b[0m \u001b[32m4.6/4.6 MB\u001b[0m \u001b[31m57.5 MB/s\u001b[0m eta \u001b[36m0:00:00\u001b[0m\n",
            "\u001b[?25h"
          ]
        },
        {
          "output_type": "display_data",
          "data": {
            "text/plain": [
              "config.json:   0%|          | 0.00/454 [00:00<?, ?B/s]"
            ],
            "application/vnd.jupyter.widget-view+json": {
              "version_major": 2,
              "version_minor": 0,
              "model_id": "6c7e6d0689404a449bf1fcc1b0a2a334"
            }
          },
          "metadata": {}
        },
        {
          "output_type": "stream",
          "name": "stdout",
          "text": [
            "Initializing model finished in 15433.58ms.\n"
          ]
        }
      ]
    },
    {
      "cell_type": "markdown",
      "source": [
        "### Preprocess the Input Image\n",
        "\n",
        "Now let’s get our uploaded image ready for TripoSR. This step involves:\n",
        "\n",
        "- **Removing the background** (optional with `rembg`)\n",
        "- **Cropping + resizing the foreground** to focus on the object\n",
        "- **Handling transparency (RGBA)** by compositing it onto a neutral background\n",
        "- Saving the final processed image to disk\n",
        "\n",
        "We're also timing this step to see how long preprocessing takes."
      ],
      "metadata": {
        "id": "cjePWk3FX3Pw"
      }
    },
    {
      "cell_type": "code",
      "source": [
        "timer.start(\"Processing images\")\n",
        "\n",
        "images = []\n",
        "rembg_session = rembg.new_session()\n",
        "\n",
        "# Remove background using Rembg (unless disabled)\n",
        "image_with_bg_removed = remove_background(original_image, rembg_session)\n",
        "\n",
        "# Resize + crop based on foreground\n",
        "image = resize_foreground(image_with_bg_removed, foreground_ratio)\n",
        "\n",
        "# Handle RGBA transparency blending\n",
        "if image.mode == \"RGBA\":\n",
        "    image = np.array(image).astype(np.float32) / 255.0\n",
        "    image = image[:, :, :3] * image[:, :, 3:4] + (1 - image[:, :, 3:4]) * 0.5\n",
        "    image = Image.fromarray((image * 255.0).astype(np.uint8))\n",
        "\n",
        "# Save processed image\n",
        "image_dir = os.path.join(output_dir, str(0))\n",
        "os.makedirs(image_dir, exist_ok=True)\n",
        "image.save(os.path.join(image_dir, \"input.png\"))\n",
        "\n",
        "# Append to list for inference\n",
        "images.append(image)\n",
        "\n",
        "timer.end(\"Processing images\")"
      ],
      "metadata": {
        "colab": {
          "base_uri": "https://localhost:8080/"
        },
        "id": "2GSfYutPSxY0",
        "outputId": "e57d20ef-c3de-4192-c8be-2c33c3b078eb"
      },
      "execution_count": 14,
      "outputs": [
        {
          "output_type": "stream",
          "name": "stdout",
          "text": [
            "Processing images finished in 3666.01ms.\n"
          ]
        }
      ]
    },
    {
      "cell_type": "markdown",
      "source": [
        "### Run TripoSR on the Image (Inference, Render & Export)\n",
        "\n",
        "Now comes the fun part! We’ll:\n",
        "- Run the model on the processed image\n",
        "- Generate a **360° render** of the object (30 views)\n",
        "- Save the rendered frames and a `.mp4` turntable video\n",
        "- Extract and export the **3D mesh** in your chosen format (default: `.obj`)\n",
        "\n",
        "All steps are timed with our `Timer` class for performance tracking."
      ],
      "metadata": {
        "id": "fdeOdOrrYUGX"
      }
    },
    {
      "cell_type": "code",
      "source": [
        "for i, image in enumerate(images):\n",
        "    print(f\"Running image {i + 1}/{len(images)} ...\")\n",
        "\n",
        "    # Inference\n",
        "    timer.start(\"Running model\")\n",
        "    with torch.no_grad():\n",
        "        scene_codes = model([image], device=device)\n",
        "    timer.end(\"Running model\")\n",
        "\n",
        "    # Render turntable video\n",
        "    if render:\n",
        "        timer.start(\"Rendering\")\n",
        "        render_images = model.render(scene_codes, n_views=30, return_type=\"pil\")\n",
        "        for ri, render_image in enumerate(render_images[0]):\n",
        "            render_image.save(os.path.join(output_dir, str(i), f\"render_{ri:03d}.png\"))\n",
        "        save_video(\n",
        "            render_images[0], os.path.join(output_dir, str(i), \"render.mp4\"), fps=30\n",
        "        )\n",
        "        timer.end(\"Rendering\")\n",
        "\n",
        "    # Export mesh\n",
        "    timer.start(\"Exporting mesh\")\n",
        "    meshes = model.extract_mesh(scene_codes, has_vertex_color=False)\n",
        "    mesh_file = os.path.join(output_dir, str(i), f\"mesh.{model_save_format}\")\n",
        "    meshes[0].export(mesh_file)\n",
        "    timer.end(\"Exporting mesh\")\n",
        "\n",
        "print(\"Processing complete.\")"
      ],
      "metadata": {
        "id": "7HIuWKAcVH_F",
        "colab": {
          "base_uri": "https://localhost:8080/"
        },
        "outputId": "01079516-b5de-4f47-9fc0-4c5ae5995a07"
      },
      "execution_count": 15,
      "outputs": [
        {
          "output_type": "stream",
          "name": "stdout",
          "text": [
            "Running image 1/1 ...\n",
            "Running model finished in 1862.29ms.\n"
          ]
        },
        {
          "output_type": "stream",
          "name": "stderr",
          "text": [
            "/content/TripoSR/tsr/utils.py:376: UserWarning: Using torch.cross without specifying the dim arg is deprecated.\n",
            "Please either pass the dim explicitly or simply use torch.linalg.cross.\n",
            "The default value of dim will change to agree with that of linalg.cross in a future release. (Triggered internally at /pytorch/aten/src/ATen/native/Cross.cpp:62.)\n",
            "  right = F.normalize(torch.cross(lookat, up), dim=-1)\n"
          ]
        },
        {
          "output_type": "stream",
          "name": "stdout",
          "text": [
            "Rendering finished in 33034.50ms.\n",
            "Exporting mesh finished in 2759.80ms.\n",
            "Processing complete.\n"
          ]
        }
      ]
    },
    {
      "cell_type": "markdown",
      "source": [
        "### Preview the Rendered 3D Model\n",
        "\n",
        "Let’s check out what we just created! Here's a **360° turntable render** of your object, stitched from 30 different viewpoints. Super useful to visually validate the result before working with the mesh."
      ],
      "metadata": {
        "id": "uc75ol9TYt3n"
      }
    },
    {
      "cell_type": "code",
      "source": [
        "Video('output/0/render.mp4', embed=True)"
      ],
      "metadata": {
        "colab": {
          "base_uri": "https://localhost:8080/",
          "height": 277
        },
        "id": "0QLecKTjKNLo",
        "outputId": "40e33398-d5ff-4f9c-b675-8b7fbfb2645f"
      },
      "execution_count": 16,
      "outputs": [
        {
          "output_type": "execute_result",
          "data": {
            "text/plain": [
              "<IPython.core.display.Video object>"
            ],
            "text/html": [
              "<video controls  >\n",
              " <source src=\"data:video/mp4;base64,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\" type=\"video/mp4\">\n",
              " Your browser does not support the video tag.\n",
              " </video>"
            ]
          },
          "metadata": {},
          "execution_count": 16
        }
      ]
    }
  ]
}